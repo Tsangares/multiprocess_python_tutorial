{
  "cells": [
    {
      "cell_type": "markdown",
      "id": "sweet-transition",
      "metadata": {
        "id": "sweet-transition"
      },
      "source": [
        "# Multiprocessing in Python\n",
        "**Author:** William Wyatt\n",
        "\n",
        "**Github:** https://github.com/Tsangares\n",
        "\n",
        "This document will be a quick overview of common pitfalls of multiprocessing with python. It should be a brief interactive example. The way this project is structured is we address the nieve approache using a `Processes` then we readdress the same project using the `Pool`. \n",
        "\n",
        "\n",
        "## Summary\n",
        "\n",
        " 1. $N$-Dimentional Random Walk\n",
        " 2. Multiprocessing Process and Queue\n",
        " 3. Multiprocessing Pool\n"
      ]
    },
    {
      "cell_type": "markdown",
      "source": [
        "## Importing\n",
        "First, we need to import the Queue and Process. This is from the `multiprocessing` library native to python.\n",
        "\n",
        "### Quick Exposition: Process vs Thread\n",
        "Python has a [lock](https://wiki.python.org/moin/GlobalInterpreterLock)  which prevent two threads from executing simultaneously:\n",
        " - `Processes` speed up programs by using multiple cores on the CPU and avoids the [lock](https://wiki.python.org/moin/GlobalInterpreterLock).\n",
        " - `Threads` are for IO tasks or tasks involving external systems because threads can combine their work more efficiently but provide no CPU intensity benefits because of the [lock](https://wiki.python.org/moin/GlobalInterpreterLock).\n",
        "\n",
        "**We use processes!**"
      ],
      "metadata": {
        "id": "PXTifjw4zVqg"
      },
      "id": "PXTifjw4zVqg"
    },
    {
      "cell_type": "code",
      "execution_count": 33,
      "id": "excellent-chocolate",
      "metadata": {
        "id": "excellent-chocolate"
      },
      "outputs": [],
      "source": [
        "#Queue is a way to store data across processes\n",
        "from multiprocessing import Queue,Process"
      ]
    },
    {
      "cell_type": "markdown",
      "id": "ambient-spring",
      "metadata": {
        "id": "ambient-spring"
      },
      "source": [
        "# Random Walk: The Load\n",
        "To test multiprocessing we need a function that is moderatley intense. Let's implement a $N$ dimentional random walk. In one dimention, a random walk is the position of a drunk person in an ally if they have equal probability of stepping forwards as they do stepping backwards.\n",
        "\n",
        "To do this we import the vector libraray `numpy`, `time` to calculate the time it takes to compute, and `random` to compute our choice or direction. Lastly, we import `matplotlib` for graphs. "
      ]
    },
    {
      "cell_type": "code",
      "execution_count": 34,
      "id": "integral-precipitation",
      "metadata": {
        "id": "integral-precipitation"
      },
      "outputs": [],
      "source": [
        "import numpy as np\n",
        "import time,random\n",
        "import matplotlib.pyplot as plt"
      ]
    },
    {
      "cell_type": "code",
      "execution_count": 35,
      "id": "enabling-webster",
      "metadata": {
        "colab": {
          "base_uri": "https://localhost:8080/"
        },
        "id": "enabling-webster",
        "outputId": "9ebd0370-059d-47aa-9791-049bd6af7c25"
      },
      "outputs": [
        {
          "output_type": "stream",
          "name": "stdout",
          "text": [
            "We landed at [ 6.  2.  6. 20.]\n",
            "It took 0.005418 secconds to generate this random walk.\n"
          ]
        }
      ],
      "source": [
        "def random_walk(dimention=2,iterations=10_000):\n",
        "    location = np.zeros(dimention)\n",
        "    for i in range(iterations):\n",
        "        location += np.array(random.choices([-1,1],k=dimention))\n",
        "    return location\n",
        "start = time.time()\n",
        "location = random_walk(4,100)\n",
        "print(f\"We landed at {location}\")\n",
        "print(f'It took {time.time() - start:.06f} secconds to generate this random walk.')"
      ]
    },
    {
      "cell_type": "markdown",
      "id": "pretty-integration",
      "metadata": {
        "id": "pretty-integration"
      },
      "source": [
        "# Process and Queue\n",
        "In the following steps we will:\n",
        " 1. Make a list to contain all the processes\n",
        " 2. Make the processes\n",
        " 3. Run the processes\n",
        " 4. Wait for them"
      ]
    },
    {
      "cell_type": "code",
      "execution_count": 36,
      "id": "interracial-baseball",
      "metadata": {
        "colab": {
          "base_uri": "https://localhost:8080/"
        },
        "id": "interracial-baseball",
        "outputId": "3a2f9ace-af6e-42cb-b5c0-2d68705ffe44"
      },
      "outputs": [
        {
          "output_type": "stream",
          "name": "stdout",
          "text": [
            "Done.\n"
          ]
        }
      ],
      "source": [
        "processes = [] #Container for our processes\n",
        "dimention = 2 \n",
        "steps = 1_000 #Walk 1,000 steps\n",
        "for _ in range(20): #Make 4 processes (4 cores)\n",
        "    p = Process(target=random_walk,args=(dimention,steps)) #Set the target function `random_walk`\n",
        "    processes.append(p) #Store the process\n",
        "    p.start()\n",
        "\n",
        "#Now we wait for the processes to finish. \n",
        "for p in processes:\n",
        "    p.join()\n",
        "print(\"Done.\")"
      ]
    },
    {
      "cell_type": "markdown",
      "id": "conditional-church",
      "metadata": {
        "id": "conditional-church"
      },
      "source": [
        "### Wait I want the results?\n",
        "The earlier process did compute all the random walks, but the results are hidden from us. Thats why we need a queue!"
      ]
    },
    {
      "cell_type": "code",
      "execution_count": 37,
      "id": "considered-interaction",
      "metadata": {
        "colab": {
          "base_uri": "https://localhost:8080/"
        },
        "id": "considered-interaction",
        "outputId": "5235ae57-747a-4577-cc5c-405d7db42c77"
      },
      "outputs": [
        {
          "output_type": "stream",
          "name": "stdout",
          "text": [
            "Done.\n"
          ]
        }
      ],
      "source": [
        "queue = Queue() #Can be accesses across processes!\n",
        "\n",
        "#Wrap the random walk in a function that puts the result in a the queue\n",
        "random_walk_with_queue = lambda d=2,k=10_000: queue.put(random_walk(d,k))\n",
        "\n",
        "#Change the target! But otherwise the same as before\n",
        "processes = []\n",
        "for _ in range(20):\n",
        "    p = Process(target=random_walk_with_queue)\n",
        "    processes.append(p)\n",
        "    p.start()\n",
        "for p in processes:\n",
        "    p.join()\n",
        "print(\"Done.\")"
      ]
    },
    {
      "cell_type": "markdown",
      "id": "comparative-absolute",
      "metadata": {
        "id": "comparative-absolute"
      },
      "source": [
        "### How do I access the data in the Queue? \n",
        "Now lets unpack the queue to see it all!"
      ]
    },
    {
      "cell_type": "code",
      "execution_count": 38,
      "id": "personalized-crest",
      "metadata": {
        "colab": {
          "base_uri": "https://localhost:8080/"
        },
        "id": "personalized-crest",
        "outputId": "04472e18-746c-4640-d50e-fa54a4296d03"
      },
      "outputs": [
        {
          "output_type": "stream",
          "name": "stdout",
          "text": [
            "Can I just see the queue? <multiprocessing.queues.Queue object at 0x7fa9bca25990> ... no\n",
            "Random Walks: [array([-46.,  14.]), array([48., 38.]), array([206., -16.])]\n"
          ]
        }
      ],
      "source": [
        "print(\"Can I just see the queue?\",queue,\"... no\")\n",
        "walks = []\n",
        "while not queue.empty():\n",
        "    walks.append(queue.get())\n",
        "print(\"Random Walks:\", walks[:3])"
      ]
    },
    {
      "cell_type": "markdown",
      "source": [
        "Great we have the positions now, but lets look at it in a scatter plot."
      ],
      "metadata": {
        "id": "QM-lEzdE-anz"
      },
      "id": "QM-lEzdE-anz"
    },
    {
      "cell_type": "code",
      "source": [
        "#PYTHON TRICK!\n",
        "#Transpose the data from a list of points, into two lists of x coordiantes and y coordinates\n",
        "x,y = zip(*walks) \n",
        "\n",
        "#Plotting\n",
        "plt.title(\"Random Walks\")\n",
        "plt.xlabel(\"End position in $e_0$\")\n",
        "plt.ylabel(\"End position in $e_1$\")\n",
        "plt.scatter(x,y)\n",
        "plt.grid()\n",
        "plt.show()"
      ],
      "metadata": {
        "colab": {
          "base_uri": "https://localhost:8080/",
          "height": 299
        },
        "id": "-tPUlPsy-euF",
        "outputId": "8c0ad0f1-3428-40bf-a24c-a471b40722ae"
      },
      "id": "-tPUlPsy-euF",
      "execution_count": 39,
      "outputs": [
        {
          "output_type": "display_data",
          "data": {
            "text/plain": [
              "<Figure size 432x288 with 1 Axes>"
            ],
            "image/png": "[encoded data removed]"
          },
          "metadata": {
            "needs_background": "light"
          }
        }
      ]
    },
    {
      "cell_type": "markdown",
      "id": "polyphonic-maryland",
      "metadata": {
        "id": "polyphonic-maryland"
      },
      "source": [
        "## Yo that all kinda sucks... is there a better way\n",
        "**Yes Multiprocessing POOL***\n",
        "# Multiprocessing Pool\n",
        "Now we do the same as above but using a multiprocessing pool. It should be a lot better."
      ]
    },
    {
      "cell_type": "code",
      "execution_count": 40,
      "id": "consistent-transportation",
      "metadata": {
        "id": "consistent-transportation"
      },
      "outputs": [],
      "source": [
        "from multiprocessing import Pool"
      ]
    },
    {
      "cell_type": "markdown",
      "source": [
        "Before we do the random walk, lets to an even simpler example. Printing a number, given a number."
      ],
      "metadata": {
        "id": "QlP7CFwPAPBK"
      },
      "id": "QlP7CFwPAPBK"
    },
    {
      "cell_type": "code",
      "source": [
        "def what_number(number):\n",
        "  print(f\"This number {number}\\n\")\n",
        "  return number"
      ],
      "metadata": {
        "id": "hA1Y211YAOIq"
      },
      "id": "hA1Y211YAOIq",
      "execution_count": 41,
      "outputs": []
    },
    {
      "cell_type": "markdown",
      "source": [
        "Now we run this 10 times using a multiprocesing pool."
      ],
      "metadata": {
        "id": "fgFxGDxOAdyr"
      },
      "id": "fgFxGDxOAdyr"
    },
    {
      "cell_type": "code",
      "source": [
        "# Run 8 parallel processes\n",
        "with Pool(8) as pool:\n",
        "  numbers = pool.map(what_number,range(10))\n",
        "print(numbers)"
      ],
      "metadata": {
        "colab": {
          "base_uri": "https://localhost:8080/"
        },
        "id": "dFhttt4FAgto",
        "outputId": "64cd7e75-39de-49df-bed5-c949215c1a98"
      },
      "id": "dFhttt4FAgto",
      "execution_count": 42,
      "outputs": [
        {
          "output_type": "stream",
          "name": "stdout",
          "text": [
            "This number 5\n",
            "This number 3\n",
            "This number 6\n",
            "This number 7\n",
            "This number 2\n",
            "This number 0\n",
            "\n",
            "\n",
            "\n",
            "\n",
            "This number 4\n",
            "This number 1\n",
            "\n",
            "\n",
            "This number 8\n",
            "This number 9\n",
            "\n",
            "\n",
            "\n",
            "\n",
            "[0, 1, 2, 3, 4, 5, 6, 7, 8, 9]\n"
          ]
        }
      ]
    },
    {
      "cell_type": "markdown",
      "id": "frequent-mouth",
      "metadata": {
        "id": "frequent-mouth"
      },
      "source": [
        "### Takeaway\n",
        "The pool will run the target function given a `list` of arguments. What happens when there is no list of arguments like our random walk? The walk takes in constants, the dimention and iteration. You can either generate a list copying the dimention and iteration or use generator like I will show you.\n",
        "\n",
        "First though, I need to wrap my function with an input for an index to allow my function to be finite otherwise it will be an infinite loop."
      ]
    },
    {
      "cell_type": "code",
      "execution_count": 43,
      "id": "convinced-silicon",
      "metadata": {
        "id": "convinced-silicon"
      },
      "outputs": [],
      "source": [
        "#Wrap random walk with an index argument\n",
        "def random_walk_indexed(index,dimention,iterations):\n",
        "    return random_walk(dimention,iterations)"
      ]
    },
    {
      "cell_type": "code",
      "execution_count": 44,
      "id": "vocal-sustainability",
      "metadata": {
        "id": "vocal-sustainability"
      },
      "outputs": [],
      "source": [
        "#To repeat a constant in a list you use thir itertools.repeat\n",
        "from itertools import repeat\n",
        "\n",
        "dimention = 3\n",
        "iterations = 10_000\n",
        "vectors = 100\n",
        "\n",
        "#Boom 100 vectors in 3D with 8 processes!\n",
        "#Pool immediatley stores the results in a list called `vec`\n",
        "with Pool(8) as pool:\n",
        "    vecs = pool.starmap(random_walk_indexed, zip(range(vectors),repeat(dimention),repeat(vectors)))"
      ]
    },
    {
      "cell_type": "markdown",
      "id": "received-price",
      "metadata": {
        "id": "received-price"
      },
      "source": [
        "Now we can just look at our results:"
      ]
    },
    {
      "cell_type": "code",
      "execution_count": 45,
      "id": "august-confirmation",
      "metadata": {
        "id": "august-confirmation",
        "outputId": "59cdebf0-e09e-49e3-e572-1f1998c97583",
        "colab": {
          "base_uri": "https://localhost:8080/"
        }
      },
      "outputs": [
        {
          "output_type": "stream",
          "name": "stdout",
          "text": [
            "[array([-14., -18.,  10.]), array([-10.,  -2.,   0.]), array([ 2.,  8., 16.]), array([4., 8., 6.]), array([  0.,  -4., -12.])]\n"
          ]
        }
      ],
      "source": [
        "print(vecs[:5])"
      ]
    },
    {
      "cell_type": "markdown",
      "source": [
        "### 3D Plotting!"
      ],
      "metadata": {
        "id": "oFksdS11CDuB"
      },
      "id": "oFksdS11CDuB"
    },
    {
      "cell_type": "code",
      "source": [
        "x,y,z = zip(*vecs)\n",
        "fig = plt.figure()\n",
        "ax = fig.add_subplot(projection='3d')\n",
        "ax.scatter(x,y,z,marker='*',color='orange')\n",
        "plt.title(\"Badass 3d Plotting of Random Walks using MULTIPROCESSING!!!\")\n",
        "plt.show()"
      ],
      "metadata": {
        "colab": {
          "base_uri": "https://localhost:8080/",
          "height": 248
        },
        "id": "fDkIwmG4COqb",
        "outputId": "a0d8d838-1448-4a5c-8338-66c5512c989f"
      },
      "id": "fDkIwmG4COqb",
      "execution_count": 46,
      "outputs": [
        {
          "output_type": "display_data",
          "data": {
            "text/plain": [
              "<Figure size 432x288 with 1 Axes>"
            ],
            "image/png": "[encoded data removed]"
          },
          "metadata": {
            "needs_background": "light"
          }
        }
      ]
    },
    {
      "cell_type": "markdown",
      "source": [
        "# Please Help ME!\n",
        "If you enjoyed this project please star it on my github repository:\n",
        "[github.com/Tsangares](https://github.com/Tsangares?tab=repositories)\n",
        "\n",
        "Star projects of mine you enjoy to help me stand out and I will continue to make great **free** tutorials and **free** projects for the community. "
      ],
      "metadata": {
        "id": "3DxzDV52C1xI"
      },
      "id": "3DxzDV52C1xI"
    }
  ],
  "metadata": {
    "kernelspec": {
      "display_name": "Python 3",
      "language": "python",
      "name": "python3"
    },
    "language_info": {
      "codemirror_mode": {
        "name": "ipython",
        "version": 3
      },
      "file_extension": ".py",
      "mimetype": "text/x-python",
      "name": "python",
      "nbconvert_exporter": "python",
      "pygments_lexer": "ipython3",
      "version": "3.8.6"
    },
    "colab": {
      "provenance": [],
      "collapsed_sections": []
    }
  },
  "nbformat": 4,
  "nbformat_minor": 5
}