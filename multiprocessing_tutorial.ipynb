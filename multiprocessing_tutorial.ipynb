{
 "cells": [
  {
   "cell_type": "markdown",
   "id": "sweet-transition",
   "metadata": {},
   "source": [
    "# Multiprocessing in Python\n",
    "### Author: https://github.com/Tsangares\n",
    "Common pitfalls of multiprocessing with python.\n",
    "\n",
    "### The Process and Queue\n",
    "First we do the classic process and queue; the queue is "
   ]
  },
  {
   "cell_type": "code",
   "execution_count": 1,
   "id": "excellent-chocolate",
   "metadata": {},
   "outputs": [],
   "source": [
    "from multiprocessing import Queue,Process"
   ]
  },
  {
   "cell_type": "markdown",
   "id": "ambient-spring",
   "metadata": {},
   "source": [
    "Lets make the computaiton to do will be a random walk.\n",
    "We are going to use `numpy` to do this. "
   ]
  },
  {
   "cell_type": "code",
   "execution_count": 2,
   "id": "integral-precipitation",
   "metadata": {},
   "outputs": [],
   "source": [
    "import numpy as np\n",
    "import random,time"
   ]
  },
  {
   "cell_type": "code",
   "execution_count": 3,
   "id": "enabling-webster",
   "metadata": {},
   "outputs": [
    {
     "name": "stdout",
     "output_type": "stream",
     "text": [
      "We landed at [ -2. -30.  -8.  16.]\n",
      "It took 0.005899 secconds to generate this random walk.\n"
     ]
    }
   ],
   "source": [
    "def random_walk(dimention=3,iterations=10_000):\n",
    "    location = np.zeros(dimention)\n",
    "    for i in range(iterations):\n",
    "        location += np.array(random.choices([-1,1],k=dimention))\n",
    "    print(f\"We landed at {location}\")\n",
    "    return location\n",
    "start = time.time()\n",
    "random_walk(4,100)\n",
    "print(f'It took {time.time() - start:.06f} secconds to generate this random walk.')"
   ]
  },
  {
   "cell_type": "markdown",
   "id": "pretty-integration",
   "metadata": {},
   "source": [
    " 1. Make a list to contain all the processes\n",
    " 2. Make the processes\n",
    " 3. Run the processes\n",
    " 4. Wait for them"
   ]
  },
  {
   "cell_type": "code",
   "execution_count": 4,
   "id": "interracial-baseball",
   "metadata": {},
   "outputs": [
    {
     "name": "stdout",
     "output_type": "stream",
     "text": [
      "We landed at [ 26. -48. -10.]\n",
      "We landed at [ 10. -18. -62.]\n",
      "We landed at [ 80.  54. 120.]\n",
      "We landed at [-50. -28.  56.]\n",
      "Done.\n"
     ]
    }
   ],
   "source": [
    "processes = []\n",
    "for _ in range(4):\n",
    "    p = Process(target=random_walk)\n",
    "    processes.append(p)\n",
    "    p.start()\n",
    "for p in processes:\n",
    "    p.join()\n",
    "print(\"Done.\")"
   ]
  },
  {
   "cell_type": "markdown",
   "id": "conditional-church",
   "metadata": {},
   "source": [
    "### Wait I want the results?\n",
    "Thats why we need a queue"
   ]
  },
  {
   "cell_type": "code",
   "execution_count": 5,
   "id": "considered-interaction",
   "metadata": {},
   "outputs": [
    {
     "name": "stdout",
     "output_type": "stream",
     "text": [
      "We landed at [ 10.  84. -34.]\n",
      "We landed at [118. -14.  -2.]\n",
      "We landed at [-58.  72. 124.]\n",
      "We landed at [ 86.  18. -34.]\n",
      "Done.\n"
     ]
    }
   ],
   "source": [
    "queue = Queue()\n",
    "\n",
    "#Wrap the function to add the results in a queue\n",
    "random_walk_with_queue = lambda d=3,k=10_000: queue.put(random_walk(d,k))\n",
    "\n",
    "#Change the target!\n",
    "processes = []\n",
    "for _ in range(4):\n",
    "    p = Process(target=random_walk_with_queue)\n",
    "    processes.append(p)\n",
    "    p.start()\n",
    "for p in processes:\n",
    "    p.join()\n",
    "print(\"Done.\")"
   ]
  },
  {
   "cell_type": "markdown",
   "id": "comparative-absolute",
   "metadata": {},
   "source": [
    "Now lets unpack the queue\n",
    "print(queue)"
   ]
  },
  {
   "cell_type": "code",
   "execution_count": 6,
   "id": "personalized-crest",
   "metadata": {},
   "outputs": [
    {
     "name": "stdout",
     "output_type": "stream",
     "text": [
      "<multiprocessing.queues.Queue object at 0x7f9cdfa38d90>\n",
      "[array([ 10.,  84., -34.]), array([118., -14.,  -2.]), array([-58.,  72., 124.]), array([ 86.,  18., -34.])]\n"
     ]
    }
   ],
   "source": [
    "print(queue)\n",
    "walks = []\n",
    "while not queue.empty():\n",
    "    walks.append(queue.get())\n",
    "    \n",
    "print(walks)"
   ]
  },
  {
   "cell_type": "markdown",
   "id": "polyphonic-maryland",
   "metadata": {},
   "source": [
    "## Yo that all kinda sucks... is there a better way\n",
    "### Yes POOL\n",
    "Now we do the same using a multiprocessing pool "
   ]
  },
  {
   "cell_type": "code",
   "execution_count": 7,
   "id": "consistent-transportation",
   "metadata": {},
   "outputs": [],
   "source": [
    "from multiprocessing import Pool"
   ]
  },
  {
   "cell_type": "markdown",
   "id": "frequent-mouth",
   "metadata": {},
   "source": [
    "With 4 processes get 100 random walks in 4 dimentions with 10,000 iterations. But now my function needs an iterator to give it an index (tell it when to stop)."
   ]
  },
  {
   "cell_type": "code",
   "execution_count": 8,
   "id": "convinced-silicon",
   "metadata": {},
   "outputs": [],
   "source": [
    "def random_walk_indexed(index,dimention,iterations):\n",
    "    return random_walk(dimention,iterations)"
   ]
  },
  {
   "cell_type": "code",
   "execution_count": 9,
   "id": "vocal-sustainability",
   "metadata": {},
   "outputs": [
    {
     "name": "stdout",
     "output_type": "stream",
     "text": [
      "We landed at [ -6. -16.   4.   2.]\n",
      "We landed at [ 16.   8. -16. -10.]\n",
      "We landed at [ 2. -2. -8.  0.]\n",
      "We landed at [-6.  2. -4.  2.]\n",
      "We landed at [ -2.   0.  -2. -12.]\n",
      "We landed at [ 10.   4. -20.  -2.]\n",
      "We landed at [-14. -12.  10.   2.]\n",
      "We landed at [ 4. -2.  0.  8.]\n",
      "We landed at [-16.  -6.   0. -16.]\n",
      "We landed at [10.  8. -8. -4.]\n",
      "We landed at [10. 20. 14.  2.]\n",
      "We landed at [ 6.  4. -4. 12.]\n",
      "We landed at [10.  8. 14. -2.]\n",
      "We landed at [-18.  16.   2.  -8.]\n",
      "We landed at [-18.  -8.  10.   8.]\n",
      "We landed at [-8. -2. -6. 16.]\n",
      "We landed at [12.  6. -6.  0.]\n",
      "We landed at [ -4.  -2. -10.  -2.]\n",
      "We landed at [18. -2. -6.  4.]\n",
      "We landed at [ 4. -2.  2. -8.]\n",
      "We landed at [ 4. -2. -6. -6.]\n",
      "We landed at [  4. -22.   6.  12.]\n",
      "We landed at [-10. -12.  -6.  16.]\n",
      "We landed at [20. -8. -6. 18.]\n",
      "We landed at [-18.   4.   0.  -2.]\n",
      "We landed at [ -6. -12.   4.   2.]\n",
      "We landed at [12.  4. -8.  2.]\n",
      "We landed at [22. -4. -6.  2.]\n",
      "We landed at [-4. 10. 18.  2.]\n",
      "We landed at [-8.  4.  4.  8.]\n",
      "We landed at [  8.  10. -12.  -4.]\n",
      "We landed at [  0.   8. -12.   6.]\n",
      "We landed at [ 14.   0. -20.  -2.]\n",
      "We landed at [  8. -14.  10.  -6.]\n",
      "We landed at [  6.   4. -14.   8.]\n",
      "We landed at [ -4. -18.   2.  -4.]\n",
      "We landed at [ 0.  2. 10. 10.]\n",
      "We landed at [ -2.  -2. -12.  -4.]\n",
      "We landed at [10.  4.  4. 16.]\n",
      "We landed at [-2. -6.  4. -4.]\n",
      "We landed at [ 6. 12.  6.  2.]\n",
      "We landed at [-18.   2.   0.  -4.]\n",
      "We landed at [14.  6.  6. -8.]\n",
      "We landed at [-10.  -6.   2.   6.]\n",
      "We landed at [  4.  12.   2. -10.]\n",
      "We landed at [-20. -12.   6.  -4.]\n",
      "We landed at [ 2. 16.  0.  2.]\n",
      "We landed at [  2.   6. -12.   4.]\n",
      "We landed at [ 8. -4.  6.  6.]\n",
      "We landed at [  4.   6. -18.   4.]\n",
      "We landed at [-16.   4.  -4.  -4.]\n",
      "We landed at [ 0.  0. -2. -6.]\n",
      "We landed at [ -2. -20.  -6.   0.]\n",
      "We landed at [-2.  2. 12.  0.]\n",
      "We landed at [ 4.  4. 24. -6.]\n",
      "We landed at [ -4. -14.  -6.  -2.]\n",
      "We landed at [  2. -10.   0.  14.]\n",
      "We landed at [-16.  -2.   6.  -4.]\n",
      "We landed at [  0. -12. -10.   8.]\n",
      "We landed at [  0.   4. -14.  -2.]\n",
      "We landed at [-24.   4.  12.  -2.]\n",
      "We landed at [-2. -8. -2.  8.]\n",
      "We landed at [ -6.   6. -12. -16.]\n",
      "We landed at [ 4. 12. -6. -2.]\n",
      "We landed at [ 8.  2.  4. 16.]\n",
      "We landed at [26. 14.  0. 10.]\n",
      "We landed at [ 2. -2. 16.  2.]\n",
      "We landed at [0. 6. 6. 4.]\n",
      "We landed at [  2.   4.   8. -14.]\n",
      "We landed at [ -8. -10.   8.  -2.]\n",
      "We landed at [-10.  20.  14.   4.]\n",
      "We landed at [-16. -10.  -2.   2.]\n",
      "We landed at [-2.  6. 28.  0.]\n",
      "We landed at [ 2. -2. 18. -8.]\n",
      "We landed at [-12.  16.   0.   8.]\n",
      "We landed at [ 4. 12. 10. 14.]\n",
      "We landed at [  8. -14. -14.   2.]\n",
      "We landed at [ -4.  18. -10.   2.]\n",
      "We landed at [  6.  -4.  -8. -12.]\n",
      "We landed at [  2.  16. -16.   6.]\n",
      "We landed at [ -8. -16. -12.   2.]\n",
      "We landed at [-14.  -4.  16.  -2.]\n",
      "We landed at [ 6. 14.  0. -8.]\n",
      "We landed at [  2.  -4.  18. -24.]\n",
      "We landed at [-10. -16. -14. -10.]\n",
      "We landed at [-10. -12. -14.  14.]\n",
      "We landed at [ 8.  6. 20. -8.]\n",
      "We landed at [ 0.  4.  2. 14.]\n",
      "We landed at [-4. -6.  6.  6.]\n",
      "We landed at [-14.   2.  18.  18.]\n",
      "We landed at [  2.   4.   0. -22.]\n",
      "We landed at [-14.   4.   2.  12.]\n",
      "We landed at [-4. -2.  4.  2.]\n",
      "We landed at [-10.   4.   0.   6.]\n",
      "We landed at [-2.  4.  4. 22.]\n",
      "We landed at [-6. -2.  4.  2.]\n",
      "We landed at [  8.  -4.  12. -10.]\n",
      "We landed at [-8.  8. -2.  4.]\n",
      "We landed at [-22.  -2.  -6.   2.]\n",
      "We landed at [  8. -10.  14.  -4.]\n"
     ]
    }
   ],
   "source": [
    "#The second argument in starmap is the parameters\n",
    "from itertools import repeat\n",
    "\n",
    "dimention = 4\n",
    "iterations = 10_000\n",
    "vectors = 100\n",
    "\n",
    "with Pool(4) as pool:\n",
    "    vecs = pool.starmap(random_walk_indexed, zip(range(vectors),repeat(dimention),repeat(vectors)))"
   ]
  },
  {
   "cell_type": "markdown",
   "id": "received-price",
   "metadata": {},
   "source": [
    "Now we can just look at our results:"
   ]
  },
  {
   "cell_type": "code",
   "execution_count": 10,
   "id": "august-confirmation",
   "metadata": {},
   "outputs": [
    {
     "name": "stdout",
     "output_type": "stream",
     "text": [
      "[array([ -6., -16.,   4.,   2.]), array([ -2.,   0.,  -2., -12.]), array([-16.,  -6.,   0., -16.]), array([10.,  8., 14., -2.]), array([12.,  6., -6.,  0.]), array([ 4., -2.,  2., -8.]), array([-18.,   4.,   0.,  -2.]), array([-6.,  2., -4.,  2.]), array([ 4., -2.,  0.,  8.]), array([10., 20., 14.,  2.]), array([-18.,  -8.,  10.,   8.]), array([18., -2., -6.,  4.]), array([-10., -12.,  -6.,  16.]), array([ -6., -12.,   4.,   2.]), array([ 16.,   8., -16., -10.]), array([-14., -12.,  10.,   2.]), array([ 6.,  4., -4., 12.]), array([-8., -2., -6., 16.]), array([  4., -22.,   6.,  12.]), array([12.,  4., -8.,  2.]), array([-8.,  4.,  4.,  8.]), array([ 2., -2., -8.,  0.]), array([ 10.,   4., -20.,  -2.]), array([10.,  8., -8., -4.]), array([-18.,  16.,   2.,  -8.]), array([ -4.,  -2., -10.,  -2.]), array([ 4., -2., -6., -6.]), array([20., -8., -6., 18.]), array([22., -4., -6.,  2.]), array([  0.,   8., -12.,   6.]), array([  6.,   4., -14.,   8.]), array([10.,  4.,  4., 16.]), array([14.,  6.,  6., -8.]), array([ 2., 16.,  0.,  2.]), array([ -2., -20.,  -6.,   0.]), array([-4., 10., 18.,  2.]), array([ 14.,   0., -20.,  -2.]), array([ 0.,  2., 10., 10.]), array([ 6., 12.,  6.,  2.]), array([-10.,  -6.,   2.,   6.]), array([  2.,   6., -12.,   4.]), array([ 0.,  0., -2., -6.]), array([  8.,  10., -12.,  -4.]), array([ -4., -18.,   2.,  -4.]), array([-18.,   2.,   0.,  -4.]), array([-20., -12.,   6.,  -4.]), array([  4.,   6., -18.,   4.]), array([-2.,  2., 12.,  0.]), array([-16.,  -2.,   6.,  -4.]), array([  8., -14.,  10.,  -6.]), array([ -2.,  -2., -12.,  -4.]), array([-2., -6.,  4., -4.]), array([  4.,  12.,   2., -10.]), array([ 8., -4.,  6.,  6.]), array([-16.,   4.,  -4.,  -4.]), array([ 4.,  4., 24., -6.]), array([ -4., -14.,  -6.,  -2.]), array([  0.,   4., -14.,  -2.]), array([ 4., 12., -6., -2.]), array([ 2., -2., 16.,  2.]), array([-10.,  20.,  14.,   4.]), array([-12.,  16.,   0.,   8.]), array([ -4.,  18., -10.,   2.]), array([  2., -10.,   0.,  14.]), array([-24.,   4.,  12.,  -2.]), array([ 8.,  2.,  4., 16.]), array([  2.,   4.,   8., -14.]), array([ 2., -2., 18., -8.]), array([  6.,  -4.,  -8., -12.]), array([  2.,  -4.,  18., -24.]), array([  0., -12., -10.,   8.]), array([-2., -8., -2.,  8.]), array([26., 14.,  0., 10.]), array([ -8., -10.,   8.,  -2.]), array([-2.,  6., 28.,  0.]), array([  8., -14., -14.,   2.]), array([ -8., -16., -12.,   2.]), array([ -6.,   6., -12., -16.]), array([0., 6., 6., 4.]), array([-16., -10.,  -2.,   2.]), array([ 4., 12., 10., 14.]), array([  2.,  16., -16.,   6.]), array([ 6., 14.,  0., -8.]), array([ 8.,  6., 20., -8.]), array([-14.,  -4.,  16.,  -2.]), array([-10., -12., -14.,  14.]), array([-14.,   2.,  18.,  18.]), array([-4., -2.,  4.,  2.]), array([-2.,  4.,  4., 22.]), array([  8.,  -4.,  12., -10.]), array([-22.,  -2.,  -6.,   2.]), array([-10., -16., -14., -10.]), array([ 0.,  4.,  2., 14.]), array([  2.,   4.,   0., -22.]), array([-10.,   4.,   0.,   6.]), array([-6., -2.,  4.,  2.]), array([-8.,  8., -2.,  4.]), array([  8., -10.,  14.,  -4.]), array([-4., -6.,  6.,  6.]), array([-14.,   4.,   2.,  12.])]\n"
     ]
    }
   ],
   "source": [
    "print(vecs)"
   ]
  }
 ],
 "metadata": {
  "kernelspec": {
   "display_name": "Python 3",
   "language": "python",
   "name": "python3"
  },
  "language_info": {
   "codemirror_mode": {
    "name": "ipython",
    "version": 3
   },
   "file_extension": ".py",
   "mimetype": "text/x-python",
   "name": "python",
   "nbconvert_exporter": "python",
   "pygments_lexer": "ipython3",
   "version": "3.8.6"
  }
 },
 "nbformat": 4,
 "nbformat_minor": 5
}
